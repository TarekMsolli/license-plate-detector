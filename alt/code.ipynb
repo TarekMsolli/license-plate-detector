{
 "cells": [
  {
   "cell_type": "markdown",
   "metadata": {},
   "source": [
    "# Preprocessing data"
   ]
  },
  {
   "cell_type": "code",
   "execution_count": 1,
   "metadata": {},
   "outputs": [],
   "source": [
    "import os\n",
    "import cv2\n",
    "import pandas as pd\n",
    "import xml.etree.ElementTree as ET"
   ]
  },
  {
   "cell_type": "markdown",
   "metadata": {},
   "source": [
    "### Path to the dataset folder"
   ]
  },
  {
   "cell_type": "code",
   "execution_count": 2,
   "metadata": {},
   "outputs": [],
   "source": [
    "dataset_path = \"archive\""
   ]
  },
  {
   "cell_type": "markdown",
   "metadata": {},
   "source": [
    "### Output CSV file"
   ]
  },
  {
   "cell_type": "code",
   "execution_count": 3,
   "metadata": {},
   "outputs": [],
   "source": [
    "csv_file = \"dataset.csv\""
   ]
  },
  {
   "cell_type": "markdown",
   "metadata": {},
   "source": [
    "### Create a DataFrame to store image information"
   ]
  },
  {
   "cell_type": "code",
   "execution_count": 4,
   "metadata": {},
   "outputs": [],
   "source": [
    "df = pd.DataFrame(columns=['filename', 'width', 'height', 'class', 'xmin', 'ymin', 'xmax', 'ymax'])"
   ]
  },
  {
   "cell_type": "markdown",
   "metadata": {},
   "source": [
    "### Loop through each XML file in the annotations folder"
   ]
  },
  {
   "cell_type": "code",
   "execution_count": 5,
   "metadata": {},
   "outputs": [],
   "source": [
    "annotations_path = os.path.join(dataset_path, \"annotations\")\n",
    "for xml_file in os.listdir(annotations_path):\n",
    "    if xml_file.endswith(\".xml\"):\n",
    "        xml_path = os.path.join(annotations_path, xml_file)\n",
    "\n",
    "        # Parse XML file\n",
    "        tree = ET.parse(xml_path)\n",
    "        root = tree.getroot()\n",
    "\n",
    "        # Get image information from XML\n",
    "        filename = root.find('filename').text\n",
    "        width = int(root.find('size/width').text)\n",
    "        height = int(root.find('size/height').text)\n",
    "        class_name = root.find('object/name').text\n",
    "        xmin = int(root.find('object/bndbox/xmin').text)\n",
    "        ymin = int(root.find('object/bndbox/ymin').text)\n",
    "        xmax = int(root.find('object/bndbox/xmax').text)\n",
    "        ymax = int(root.find('object/bndbox/ymax').text)\n",
    "\n",
    "        # Append information to the DataFrame\n",
    "        df = pd.concat([df, pd.DataFrame({\n",
    "            'filename': [filename],\n",
    "            'width': [width],\n",
    "            'height': [height],\n",
    "            'class': [class_name],\n",
    "            'xmin': [xmin],\n",
    "            'ymin': [ymin],\n",
    "            'xmax': [xmax],\n",
    "            'ymax': [ymax]\n",
    "        })], ignore_index=True)\n"
   ]
  },
  {
   "cell_type": "markdown",
   "metadata": {},
   "source": [
    "### Save the DataFrame to a CSV file"
   ]
  },
  {
   "cell_type": "code",
   "execution_count": 6,
   "metadata": {},
   "outputs": [],
   "source": [
    "df.to_csv(csv_file, index=False)"
   ]
  },
  {
   "cell_type": "code",
   "execution_count": 7,
   "metadata": {},
   "outputs": [
    {
     "name": "stdout",
     "output_type": "stream",
     "text": [
      "Dataset preprocessing complete. CSV file created.\n"
     ]
    }
   ],
   "source": [
    "print(\"Dataset preprocessing complete. CSV file created.\")"
   ]
  }
 ],
 "metadata": {
  "kernelspec": {
   "display_name": "Python 3",
   "language": "python",
   "name": "python3"
  },
  "language_info": {
   "codemirror_mode": {
    "name": "ipython",
    "version": 3
   },
   "file_extension": ".py",
   "mimetype": "text/x-python",
   "name": "python",
   "nbconvert_exporter": "python",
   "pygments_lexer": "ipython3",
   "version": "3.11.4"
  },
  "orig_nbformat": 4
 },
 "nbformat": 4,
 "nbformat_minor": 2
}
