{
 "cells": [
  {
   "cell_type": "code",
   "execution_count": 9,
   "metadata": {},
   "outputs": [],
   "source": [
    "import cv2\n",
    "import numpy as np\n",
    "\n",
    "def detect_and_export_license_plate(image_path, output_path):\n",
    "    # Load the image\n",
    "    image = cv2.imread(image_path)\n",
    "\n",
    "    # Convert the image to grayscale\n",
    "    gray = cv2.cvtColor(image, cv2.COLOR_BGR2GRAY)\n",
    "\n",
    "    # Use a pre-trained Haarcascades classifier for license plate detection\n",
    "    plate_cascade = cv2.CascadeClassifier(cv2.data.haarcascades + 'haarcascade_russian_plate_number.xml')\n",
    "    plates = plate_cascade.detectMultiScale(gray, scaleFactor=1.1, minNeighbors=5, minSize=(25, 25))\n",
    "\n",
    "    # Iterate through detected plates and export them\n",
    "    for i, (x, y, w, h) in enumerate(plates):\n",
    "        # Crop the license plate region\n",
    "        plate_region = image[y:y+h, x:x+w]\n",
    "\n",
    "        # Save the cropped region as a separate image\n",
    "        output_filename = f'{output_path}/detected_plate_{i+1}.png'\n",
    "        cv2.imwrite(output_filename, plate_region)\n",
    "\n",
    "        # Draw rectangles around detected license plates\n",
    "        cv2.rectangle(image, (x, y), (x+w, y+h), (0, 255, 0), 2)\n",
    "\n",
    "    # Display the result\n",
    "    cv2.imshow('License Plate Detection', image)\n",
    "    cv2.waitKey(0)\n",
    "    cv2.destroyAllWindows()\n",
    "\n",
    "image_path = 'image.jpg'\n",
    "output_path = '/'\n",
    "detect_and_export_license_plate(image_path, output_path)\n"
   ]
  }
 ],
 "metadata": {
  "kernelspec": {
   "display_name": "Python 3",
   "language": "python",
   "name": "python3"
  },
  "language_info": {
   "codemirror_mode": {
    "name": "ipython",
    "version": 3
   },
   "file_extension": ".py",
   "mimetype": "text/x-python",
   "name": "python",
   "nbconvert_exporter": "python",
   "pygments_lexer": "ipython3",
   "version": "3.12.0"
  }
 },
 "nbformat": 4,
 "nbformat_minor": 2
}
